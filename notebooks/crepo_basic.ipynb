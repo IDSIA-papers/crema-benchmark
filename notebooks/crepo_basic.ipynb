{
 "cells": [
  {
   "cell_type": "markdown",
   "metadata": {
    "id": "YioK_WqFQ1O5"
   },
   "source": [
    "# CREPO: An Open Repository to Benchmark Credal Network Algorithms\n",
    "The Python package for CREPO can be installed as follows."
   ]
  },
  {
   "cell_type": "code",
   "execution_count": null,
   "metadata": {
    "id": "MFq0n1BPc3ph"
   },
   "outputs": [],
   "source": [
    "!pip install crepobenchmark"
   ]
  },
  {
   "cell_type": "markdown",
   "metadata": {
    "id": "1T7zWsUaRCJz"
   },
   "source": [
    "Import the package and then repository is loaded."
   ]
  },
  {
   "cell_type": "code",
   "execution_count": 2,
   "metadata": {
    "id": "nSVLpnrwdBbF"
   },
   "outputs": [],
   "source": [
    "import crepobenchmark as crb\n",
    "crepo.download_metadata()"
   ]
  },
  {
   "cell_type": "markdown",
   "metadata": {
    "id": "0xZ783V4RMKX"
   },
   "source": [
    "Access to the benchmark data:"
   ]
  },
  {
   "cell_type": "code",
   "execution_count": 3,
   "metadata": {
    "colab": {
     "base_uri": "https://localhost:8080/",
     "height": 436
    },
    "id": "DYJ5MDQ9d3So",
    "outputId": "533a6d6c-ff2f-494e-da42-fcad2bc014f5"
   },
   "outputs": [
    {
     "data": {
      "text/html": [
       "<div>\n",
       "<style scoped>\n",
       "    .dataframe tbody tr th:only-of-type {\n",
       "        vertical-align: middle;\n",
       "    }\n",
       "\n",
       "    .dataframe tbody tr th {\n",
       "        vertical-align: top;\n",
       "    }\n",
       "\n",
       "    .dataframe thead th {\n",
       "        text-align: right;\n",
       "    }\n",
       "</style>\n",
       "<table border=\"1\" class=\"dataframe\">\n",
       "  <thead>\n",
       "    <tr style=\"text-align: right;\">\n",
       "      <th></th>\n",
       "      <th>label</th>\n",
       "      <th>num_vert</th>\n",
       "      <th>max_degree</th>\n",
       "      <th>max_indegree</th>\n",
       "      <th>max_values</th>\n",
       "      <th>nodes</th>\n",
       "      <th>method</th>\n",
       "      <th>kind</th>\n",
       "      <th>query_type</th>\n",
       "      <th>filename</th>\n",
       "      <th>target</th>\n",
       "      <th>observed</th>\n",
       "      <th>barren</th>\n",
       "      <th>interval_result</th>\n",
       "      <th>time</th>\n",
       "    </tr>\n",
       "  </thead>\n",
       "  <tbody>\n",
       "    <tr>\n",
       "      <th>0</th>\n",
       "      <td>vs_n4_mID2_mD6_mV4_nV2-1</td>\n",
       "      <td>2</td>\n",
       "      <td>6</td>\n",
       "      <td>2</td>\n",
       "      <td>4</td>\n",
       "      <td>4</td>\n",
       "      <td>cve</td>\n",
       "      <td>sing</td>\n",
       "      <td>marg</td>\n",
       "      <td>./networks/vmodel/vmodel-sing_n4_mID2_mD6_mV4_...</td>\n",
       "      <td>3</td>\n",
       "      <td>NaN</td>\n",
       "      <td>0</td>\n",
       "      <td>0.476609993 0.614758876376 0.385241123624 0.52...</td>\n",
       "      <td>47.0</td>\n",
       "    </tr>\n",
       "    <tr>\n",
       "      <th>1</th>\n",
       "      <td>vs_n4_mID2_mD6_mV4_nV2-1</td>\n",
       "      <td>2</td>\n",
       "      <td>6</td>\n",
       "      <td>2</td>\n",
       "      <td>4</td>\n",
       "      <td>4</td>\n",
       "      <td>cve</td>\n",
       "      <td>sing</td>\n",
       "      <td>cond</td>\n",
       "      <td>./networks/vmodel/vmodel-sing_n4_mID2_mD6_mV4_...</td>\n",
       "      <td>0</td>\n",
       "      <td>3</td>\n",
       "      <td>0</td>\n",
       "      <td>0.21158887521400385 0.31777107907580027 0.4676...</td>\n",
       "      <td>65.0</td>\n",
       "    </tr>\n",
       "    <tr>\n",
       "      <th>2</th>\n",
       "      <td>vm_n4_mID2_mD6_mV4_nV2-1</td>\n",
       "      <td>2</td>\n",
       "      <td>6</td>\n",
       "      <td>2</td>\n",
       "      <td>4</td>\n",
       "      <td>4</td>\n",
       "      <td>cve</td>\n",
       "      <td>mult</td>\n",
       "      <td>marg</td>\n",
       "      <td>./networks/vmodel/vmodel-mult_n4_mID2_mD6_mV4_...</td>\n",
       "      <td>2</td>\n",
       "      <td>NaN</td>\n",
       "      <td>0</td>\n",
       "      <td>0.142387054038 0.529712535815 0.10009022261400...</td>\n",
       "      <td>310312.0</td>\n",
       "    </tr>\n",
       "    <tr>\n",
       "      <th>3</th>\n",
       "      <td>vm_n4_mID2_mD6_mV4_nV2-1</td>\n",
       "      <td>2</td>\n",
       "      <td>6</td>\n",
       "      <td>2</td>\n",
       "      <td>4</td>\n",
       "      <td>4</td>\n",
       "      <td>cve</td>\n",
       "      <td>mult</td>\n",
       "      <td>cond</td>\n",
       "      <td>./networks/vmodel/vmodel-mult_n4_mID2_mD6_mV4_...</td>\n",
       "      <td>0</td>\n",
       "      <td>2</td>\n",
       "      <td>0</td>\n",
       "      <td>0.012342690023588145 0.5399930948722422 0.0 0....</td>\n",
       "      <td>391599.0</td>\n",
       "    </tr>\n",
       "    <tr>\n",
       "      <th>4</th>\n",
       "      <td>vs_n5_mID2_mD6_mV4_nV2-1</td>\n",
       "      <td>2</td>\n",
       "      <td>6</td>\n",
       "      <td>2</td>\n",
       "      <td>4</td>\n",
       "      <td>5</td>\n",
       "      <td>cve</td>\n",
       "      <td>sing</td>\n",
       "      <td>marg</td>\n",
       "      <td>./networks/vmodel/vmodel-sing_n5_mID2_mD6_mV4_...</td>\n",
       "      <td>4</td>\n",
       "      <td>NaN</td>\n",
       "      <td>0</td>\n",
       "      <td>0.139525240230232 0.40904841081014 0.233851725...</td>\n",
       "      <td>133.0</td>\n",
       "    </tr>\n",
       "    <tr>\n",
       "      <th>...</th>\n",
       "      <td>...</td>\n",
       "      <td>...</td>\n",
       "      <td>...</td>\n",
       "      <td>...</td>\n",
       "      <td>...</td>\n",
       "      <td>...</td>\n",
       "      <td>...</td>\n",
       "      <td>...</td>\n",
       "      <td>...</td>\n",
       "      <td>...</td>\n",
       "      <td>...</td>\n",
       "      <td>...</td>\n",
       "      <td>...</td>\n",
       "      <td>...</td>\n",
       "      <td>...</td>\n",
       "    </tr>\n",
       "    <tr>\n",
       "      <th>83</th>\n",
       "      <td>vm_n10_mID6_mD6_mV4_nV2-1</td>\n",
       "      <td>2</td>\n",
       "      <td>6</td>\n",
       "      <td>6</td>\n",
       "      <td>4</td>\n",
       "      <td>10</td>\n",
       "      <td>cve</td>\n",
       "      <td>mult</td>\n",
       "      <td>cond</td>\n",
       "      <td>./networks/vmodel/vmodel-mult_n10_mID6_mD6_mV4...</td>\n",
       "      <td>3</td>\n",
       "      <td>8 6 0</td>\n",
       "      <td>0</td>\n",
       "      <td>NaN</td>\n",
       "      <td>NaN</td>\n",
       "    </tr>\n",
       "    <tr>\n",
       "      <th>84</th>\n",
       "      <td>vs_n4_mID2_mD6_mV4_nV4-1</td>\n",
       "      <td>4</td>\n",
       "      <td>6</td>\n",
       "      <td>2</td>\n",
       "      <td>4</td>\n",
       "      <td>4</td>\n",
       "      <td>cve</td>\n",
       "      <td>sing</td>\n",
       "      <td>marg</td>\n",
       "      <td>./networks/vmodel/vmodel-sing_n4_mID2_mD6_mV4_...</td>\n",
       "      <td>3</td>\n",
       "      <td>NaN</td>\n",
       "      <td>0</td>\n",
       "      <td>0.020474433986000004 0.5962191198079999 0.4037...</td>\n",
       "      <td>173.0</td>\n",
       "    </tr>\n",
       "    <tr>\n",
       "      <th>85</th>\n",
       "      <td>vs_n4_mID2_mD6_mV4_nV4-1</td>\n",
       "      <td>4</td>\n",
       "      <td>6</td>\n",
       "      <td>2</td>\n",
       "      <td>4</td>\n",
       "      <td>4</td>\n",
       "      <td>cve</td>\n",
       "      <td>sing</td>\n",
       "      <td>cond</td>\n",
       "      <td>./networks/vmodel/vmodel-sing_n4_mID2_mD6_mV4_...</td>\n",
       "      <td>0</td>\n",
       "      <td>3</td>\n",
       "      <td>0</td>\n",
       "      <td>0.010658368965991724 0.9162321172536735 0.0026...</td>\n",
       "      <td>241.0</td>\n",
       "    </tr>\n",
       "    <tr>\n",
       "      <th>86</th>\n",
       "      <td>vm_n4_mID2_mD6_mV4_nV4-1</td>\n",
       "      <td>4</td>\n",
       "      <td>6</td>\n",
       "      <td>2</td>\n",
       "      <td>4</td>\n",
       "      <td>4</td>\n",
       "      <td>cve</td>\n",
       "      <td>mult</td>\n",
       "      <td>marg</td>\n",
       "      <td>./networks/vmodel/vmodel-mult_n4_mID2_mD6_mV4_...</td>\n",
       "      <td>2</td>\n",
       "      <td>NaN</td>\n",
       "      <td>0</td>\n",
       "      <td>NaN</td>\n",
       "      <td>NaN</td>\n",
       "    </tr>\n",
       "    <tr>\n",
       "      <th>87</th>\n",
       "      <td>vm_n4_mID2_mD6_mV4_nV4-1</td>\n",
       "      <td>4</td>\n",
       "      <td>6</td>\n",
       "      <td>2</td>\n",
       "      <td>4</td>\n",
       "      <td>4</td>\n",
       "      <td>cve</td>\n",
       "      <td>mult</td>\n",
       "      <td>cond</td>\n",
       "      <td>./networks/vmodel/vmodel-mult_n4_mID2_mD6_mV4_...</td>\n",
       "      <td>0</td>\n",
       "      <td>2</td>\n",
       "      <td>0</td>\n",
       "      <td>NaN</td>\n",
       "      <td>NaN</td>\n",
       "    </tr>\n",
       "  </tbody>\n",
       "</table>\n",
       "<p>88 rows × 15 columns</p>\n",
       "</div>"
      ],
      "text/plain": [
       "                        label  ...      time\n",
       "0    vs_n4_mID2_mD6_mV4_nV2-1  ...      47.0\n",
       "1    vs_n4_mID2_mD6_mV4_nV2-1  ...      65.0\n",
       "2    vm_n4_mID2_mD6_mV4_nV2-1  ...  310312.0\n",
       "3    vm_n4_mID2_mD6_mV4_nV2-1  ...  391599.0\n",
       "4    vs_n5_mID2_mD6_mV4_nV2-1  ...     133.0\n",
       "..                        ...  ...       ...\n",
       "83  vm_n10_mID6_mD6_mV4_nV2-1  ...       NaN\n",
       "84   vs_n4_mID2_mD6_mV4_nV4-1  ...     173.0\n",
       "85   vs_n4_mID2_mD6_mV4_nV4-1  ...     241.0\n",
       "86   vm_n4_mID2_mD6_mV4_nV4-1  ...       NaN\n",
       "87   vm_n4_mID2_mD6_mV4_nV4-1  ...       NaN\n",
       "\n",
       "[88 rows x 15 columns]"
      ]
     },
     "execution_count": 3,
     "metadata": {
      "tags": []
     },
     "output_type": "execute_result"
    }
   ],
   "source": [
    "data = crb.get_benchmark_data()\n",
    "data"
   ]
  },
  {
   "cell_type": "markdown",
   "metadata": {
    "id": "Lf_Yd04oRU3N"
   },
   "source": [
    "The specification of any of the models in UAI format can be obtained as follows."
   ]
  },
  {
   "cell_type": "code",
   "execution_count": 4,
   "metadata": {
    "colab": {
     "base_uri": "https://localhost:8080/"
    },
    "id": "E2hrLjMYd8bn",
    "outputId": "bb9f0157-42ec-4435-f72e-fe31f7ded6d8"
   },
   "outputs": [
    {
     "name": "stdout",
     "output_type": "stream",
     "text": [
      "V-CREDAL\n",
      "4\n",
      "4 4 2 2\n",
      "4\n",
      "1 0\n",
      "2 0 1\n",
      "2 1 2\n",
      "2 2 3\n",
      "\n",
      "8\n",
      "0.218 0.48 0.254 0.048\n",
      "0.296 0.603 0.086 0.015\n",
      "\n",
      "8\n",
      "0.241 0.617 0.119 0.023\n",
      "0.004 0.989 0.003 0.004\n",
      "8\n",
      "0.197 0.711 0.048 0.044\n",
      "0.039 0.948 0.006 0.007\n",
      "8\n",
      "0.919 0.004 0.009 0.068\n",
      "0.002 0.017 0.001 0.98\n",
      "8\n",
      "0.049 0.108 0.13 0.713\n",
      "0.095 0.428 0.427 0.05\n",
      "\n",
      "4\n",
      "0.423 0.577\n",
      "0.752 0.248\n",
      "4\n",
      "0.616 0.384\n",
      "0.667 0.333\n",
      "4\n",
      "0.875 0.125\n",
      "0.087 0.913\n",
      "4\n",
      "0.007 0.993\n",
      "0.517 0.483\n",
      "\n",
      "4\n",
      "0.674 0.326\n",
      "0.677 0.323\n",
      "4\n",
      "0.361 0.639\n",
      "0.464 0.536\n",
      "\n"
     ]
    }
   ],
   "source": [
    "modelname = \"vs_n4_mID2_mD6_mV4_nV2-1\"\n",
    "print(crepo.get_model(modelname))"
   ]
  },
  {
   "cell_type": "markdown",
   "metadata": {
    "id": "gke8kPUiRiCF"
   },
   "source": [
    "This specification can also be saved into a file:"
   ]
  },
  {
   "cell_type": "code",
   "execution_count": 5,
   "metadata": {
    "colab": {
     "base_uri": "https://localhost:8080/"
    },
    "id": "0Db2KjV7eCRE",
    "outputId": "c24fcb58-5f01-477f-9d06-4d4c0ac23057"
   },
   "outputs": [
    {
     "name": "stdout",
     "output_type": "stream",
     "text": [
      "-rw-r--r-- 1 root root  449 Feb 19 17:13 model.uai\n"
     ]
    }
   ],
   "source": [
    "crepo.save_model(modelname, \"model.uai\")\n",
    "!ls -l | grep model"
   ]
  },
  {
   "cell_type": "markdown",
   "metadata": {
    "id": "Ie5D0fcaR1oy"
   },
   "source": [
    "Finally, an inference task can be done by invoking Crema:"
   ]
  },
  {
   "cell_type": "code",
   "execution_count": 6,
   "metadata": {
    "colab": {
     "base_uri": "https://localhost:8080/"
    },
    "id": "6QdFmr5NeIhd",
    "outputId": "3954a947-cd30-46e4-d2ba-2bb80147e27b"
   },
   "outputs": [
    {
     "data": {
      "text/plain": [
       "{'arg_str': '-t;--method=cve;-r;1;-w;0;-x;0;-y;1;--timeout=600;model.uai',\n",
       " 'err_msg': '',\n",
       " 'interval_result': [0.0026153357047309983,\n",
       "  0.7449456975772765,\n",
       "  0.060534723389944506,\n",
       "  0.982702139276319,\n",
       "  0.0008971229475704658,\n",
       "  0.9140697811019305,\n",
       "  0.002723271185938287,\n",
       "  0.18491484184914841],\n",
       " 'time': 45.0}"
      ]
     },
     "execution_count": 6,
     "metadata": {
      "tags": []
     },
     "output_type": "execute_result"
    }
   ],
   "source": [
    "crepo.run_crema(\"model.uai\", target=0, method=\"cve\")"
   ]
  }
 ],
 "metadata": {
  "colab": {
   "collapsed_sections": [],
   "name": "crepo_basic.ipynb",
   "provenance": []
  },
  "kernelspec": {
   "display_name": "Python 3",
   "language": "python",
   "name": "python3"
  },
  "language_info": {
   "codemirror_mode": {
    "name": "ipython",
    "version": 3
   },
   "file_extension": ".py",
   "mimetype": "text/x-python",
   "name": "python",
   "nbconvert_exporter": "python",
   "pygments_lexer": "ipython3",
   "version": "3.8.5"
  }
 },
 "nbformat": 4,
 "nbformat_minor": 1
}