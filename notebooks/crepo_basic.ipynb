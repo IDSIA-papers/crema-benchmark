{
 "cells": [
  {
   "cell_type": "markdown",
   "metadata": {
    "id": "YioK_WqFQ1O5"
   },
   "source": [
    "# CREPO: An Open Repository to Benchmark Credal Network Algorithms\n",
    "\n",
    "## Setup\n",
    "The latest version of the Python package for CREPO can be installed from PyPI as follows."
   ]
  },
  {
   "cell_type": "code",
   "execution_count": null,
   "metadata": {
    "id": "MFq0n1BPc3ph"
   },
   "outputs": [],
   "source": [
    "!pip install crepobenchmark"
   ]
  },
  {
   "cell_type": "markdown",
   "metadata": {},
   "source": [
    "or from github source code:"
   ]
  },
  {
   "cell_type": "code",
   "execution_count": null,
   "metadata": {},
   "outputs": [],
   "source": [
    "!pip install git+https://github.com/IDSIA-papers/crepo.git@main#\"subdirectory=src/python\""
   ]
  },
  {
   "cell_type": "markdown",
   "metadata": {
    "id": "1T7zWsUaRCJz"
   },
   "source": [
    "Import the package."
   ]
  },
  {
   "cell_type": "code",
   "execution_count": 2,
   "metadata": {
    "id": "nSVLpnrwdBbF"
   },
   "outputs": [],
   "source": [
    "import crepobenchmark as crb"
   ]
  },
  {
   "cell_type": "markdown",
   "metadata": {},
   "source": [
    "## Benchmarking data\n",
    "The following function will plot a table summarizing the features of the benchmarking dataset."
   ]
  },
  {
   "cell_type": "code",
   "execution_count": 6,
   "metadata": {},
   "outputs": [
    {
     "data": {
      "text/html": [
       "<div>\n",
       "<style scoped>\n",
       "    .dataframe tbody tr th:only-of-type {\n",
       "        vertical-align: middle;\n",
       "    }\n",
       "\n",
       "    .dataframe tbody tr th {\n",
       "        vertical-align: top;\n",
       "    }\n",
       "\n",
       "    .dataframe thead th {\n",
       "        text-align: right;\n",
       "    }\n",
       "</style>\n",
       "<table border=\"1\" class=\"dataframe\">\n",
       "  <thead>\n",
       "    <tr style=\"text-align: right;\">\n",
       "      <th></th>\n",
       "      <th>property</th>\n",
       "      <th>value</th>\n",
       "    </tr>\n",
       "  </thead>\n",
       "  <tbody>\n",
       "    <tr>\n",
       "      <th>0</th>\n",
       "      <td>num_vert</td>\n",
       "      <td>[2, 4, 6]</td>\n",
       "    </tr>\n",
       "    <tr>\n",
       "      <th>1</th>\n",
       "      <td>max_degree</td>\n",
       "      <td>[6]</td>\n",
       "    </tr>\n",
       "    <tr>\n",
       "      <th>2</th>\n",
       "      <td>max_indegree</td>\n",
       "      <td>[2, 4, 6]</td>\n",
       "    </tr>\n",
       "    <tr>\n",
       "      <th>3</th>\n",
       "      <td>max_values</td>\n",
       "      <td>[4]</td>\n",
       "    </tr>\n",
       "    <tr>\n",
       "      <th>4</th>\n",
       "      <td>nodes</td>\n",
       "      <td>[4, 5, 6, 7, 8, 9, 10]</td>\n",
       "    </tr>\n",
       "    <tr>\n",
       "      <th>5</th>\n",
       "      <td>method</td>\n",
       "      <td>[approxlp, cve, cve_ch10, cve_ch5]</td>\n",
       "    </tr>\n",
       "    <tr>\n",
       "      <th>6</th>\n",
       "      <td>kind</td>\n",
       "      <td>[sing, mult]</td>\n",
       "    </tr>\n",
       "    <tr>\n",
       "      <th>7</th>\n",
       "      <td>query_type</td>\n",
       "      <td>[marg, cond]</td>\n",
       "    </tr>\n",
       "    <tr>\n",
       "      <th>8</th>\n",
       "      <td>V-models</td>\n",
       "      <td>378</td>\n",
       "    </tr>\n",
       "    <tr>\n",
       "      <th>9</th>\n",
       "      <td>H-models</td>\n",
       "      <td>378</td>\n",
       "    </tr>\n",
       "    <tr>\n",
       "      <th>10</th>\n",
       "      <td>rows</td>\n",
       "      <td>1920</td>\n",
       "    </tr>\n",
       "    <tr>\n",
       "      <th>11</th>\n",
       "      <td>columns</td>\n",
       "      <td>15</td>\n",
       "    </tr>\n",
       "  </tbody>\n",
       "</table>\n",
       "</div>"
      ],
      "text/plain": [
       "        property                               value\n",
       "0       num_vert                           [2, 4, 6]\n",
       "1     max_degree                                 [6]\n",
       "2   max_indegree                           [2, 4, 6]\n",
       "3     max_values                                 [4]\n",
       "4          nodes              [4, 5, 6, 7, 8, 9, 10]\n",
       "5         method  [approxlp, cve, cve_ch10, cve_ch5]\n",
       "6           kind                        [sing, mult]\n",
       "7     query_type                        [marg, cond]\n",
       "8       V-models                                 378\n",
       "9       H-models                                 378\n",
       "10          rows                                1920\n",
       "11       columns                                  15"
      ]
     },
     "execution_count": 6,
     "metadata": {},
     "output_type": "execute_result"
    }
   ],
   "source": [
    "crb.describe()"
   ]
  },
  {
   "cell_type": "markdown",
   "metadata": {
    "id": "0xZ783V4RMKX"
   },
   "source": [
    "The data itself can be obtained as follows."
   ]
  },
  {
   "cell_type": "code",
   "execution_count": 3,
   "metadata": {
    "colab": {
     "base_uri": "https://localhost:8080/",
     "height": 436
    },
    "id": "DYJ5MDQ9d3So",
    "outputId": "533a6d6c-ff2f-494e-da42-fcad2bc014f5"
   },
   "outputs": [
    {
     "data": {
      "text/html": [
       "<div>\n",
       "<style scoped>\n",
       "    .dataframe tbody tr th:only-of-type {\n",
       "        vertical-align: middle;\n",
       "    }\n",
       "\n",
       "    .dataframe tbody tr th {\n",
       "        vertical-align: top;\n",
       "    }\n",
       "\n",
       "    .dataframe thead th {\n",
       "        text-align: right;\n",
       "    }\n",
       "</style>\n",
       "<table border=\"1\" class=\"dataframe\">\n",
       "  <thead>\n",
       "    <tr style=\"text-align: right;\">\n",
       "      <th></th>\n",
       "      <th>label</th>\n",
       "      <th>num_vert</th>\n",
       "      <th>max_degree</th>\n",
       "      <th>max_indegree</th>\n",
       "      <th>max_values</th>\n",
       "      <th>nodes</th>\n",
       "      <th>method</th>\n",
       "      <th>kind</th>\n",
       "      <th>query_type</th>\n",
       "      <th>filename</th>\n",
       "      <th>target</th>\n",
       "      <th>observed</th>\n",
       "      <th>barren</th>\n",
       "      <th>interval_result</th>\n",
       "      <th>time</th>\n",
       "    </tr>\n",
       "  </thead>\n",
       "  <tbody>\n",
       "    <tr>\n",
       "      <th>0</th>\n",
       "      <td>hs_n4_mID2_mD6_mV4_nV2-1</td>\n",
       "      <td>2</td>\n",
       "      <td>6</td>\n",
       "      <td>2</td>\n",
       "      <td>4</td>\n",
       "      <td>4</td>\n",
       "      <td>approxlp</td>\n",
       "      <td>sing</td>\n",
       "      <td>marg</td>\n",
       "      <td>./networks/hmodel/hmodel-sing_n4_mID2_mD6_mV4_...</td>\n",
       "      <td>3</td>\n",
       "      <td>NaN</td>\n",
       "      <td>0</td>\n",
       "      <td>0.47661183887412617 0.6147556334817609 0.38524...</td>\n",
       "      <td>477.0</td>\n",
       "    </tr>\n",
       "    <tr>\n",
       "      <th>1</th>\n",
       "      <td>hs_n4_mID2_mD6_mV4_nV2-1</td>\n",
       "      <td>2</td>\n",
       "      <td>6</td>\n",
       "      <td>2</td>\n",
       "      <td>4</td>\n",
       "      <td>4</td>\n",
       "      <td>approxlp</td>\n",
       "      <td>sing</td>\n",
       "      <td>cond</td>\n",
       "      <td>./networks/hmodel/hmodel-sing_n4_mID2_mD6_mV4_...</td>\n",
       "      <td>0</td>\n",
       "      <td>3</td>\n",
       "      <td>0</td>\n",
       "      <td>NaN</td>\n",
       "      <td>NaN</td>\n",
       "    </tr>\n",
       "    <tr>\n",
       "      <th>2</th>\n",
       "      <td>hm_n4_mID2_mD6_mV4_nV2-1</td>\n",
       "      <td>2</td>\n",
       "      <td>6</td>\n",
       "      <td>2</td>\n",
       "      <td>4</td>\n",
       "      <td>4</td>\n",
       "      <td>approxlp</td>\n",
       "      <td>mult</td>\n",
       "      <td>marg</td>\n",
       "      <td>./networks/hmodel/hmodel-mult_n4_mID2_mD6_mV4_...</td>\n",
       "      <td>2</td>\n",
       "      <td>NaN</td>\n",
       "      <td>0</td>\n",
       "      <td>0.14280081709746253 0.524457784601085 0.100093...</td>\n",
       "      <td>1277.0</td>\n",
       "    </tr>\n",
       "    <tr>\n",
       "      <th>3</th>\n",
       "      <td>hm_n4_mID2_mD6_mV4_nV2-1</td>\n",
       "      <td>2</td>\n",
       "      <td>6</td>\n",
       "      <td>2</td>\n",
       "      <td>4</td>\n",
       "      <td>4</td>\n",
       "      <td>approxlp</td>\n",
       "      <td>mult</td>\n",
       "      <td>cond</td>\n",
       "      <td>./networks/hmodel/hmodel-mult_n4_mID2_mD6_mV4_...</td>\n",
       "      <td>0</td>\n",
       "      <td>2</td>\n",
       "      <td>0</td>\n",
       "      <td>NaN</td>\n",
       "      <td>NaN</td>\n",
       "    </tr>\n",
       "    <tr>\n",
       "      <th>4</th>\n",
       "      <td>hs_n5_mID2_mD6_mV4_nV2-1</td>\n",
       "      <td>2</td>\n",
       "      <td>6</td>\n",
       "      <td>2</td>\n",
       "      <td>4</td>\n",
       "      <td>5</td>\n",
       "      <td>approxlp</td>\n",
       "      <td>sing</td>\n",
       "      <td>marg</td>\n",
       "      <td>./networks/hmodel/hmodel-sing_n5_mID2_mD6_mV4_...</td>\n",
       "      <td>4</td>\n",
       "      <td>NaN</td>\n",
       "      <td>0</td>\n",
       "      <td>0.13952568805044846 0.40904652506095185 0.2338...</td>\n",
       "      <td>1037.0</td>\n",
       "    </tr>\n",
       "    <tr>\n",
       "      <th>...</th>\n",
       "      <td>...</td>\n",
       "      <td>...</td>\n",
       "      <td>...</td>\n",
       "      <td>...</td>\n",
       "      <td>...</td>\n",
       "      <td>...</td>\n",
       "      <td>...</td>\n",
       "      <td>...</td>\n",
       "      <td>...</td>\n",
       "      <td>...</td>\n",
       "      <td>...</td>\n",
       "      <td>...</td>\n",
       "      <td>...</td>\n",
       "      <td>...</td>\n",
       "      <td>...</td>\n",
       "    </tr>\n",
       "    <tr>\n",
       "      <th>1915</th>\n",
       "      <td>vm_n5_mID4_mD6_mV4_nV6-1</td>\n",
       "      <td>6</td>\n",
       "      <td>6</td>\n",
       "      <td>4</td>\n",
       "      <td>4</td>\n",
       "      <td>5</td>\n",
       "      <td>cve_ch10</td>\n",
       "      <td>mult</td>\n",
       "      <td>cond</td>\n",
       "      <td>./networks/vmodel/vmodel-mult_n5_mID4_mD6_mV4_...</td>\n",
       "      <td>0</td>\n",
       "      <td>4</td>\n",
       "      <td>0</td>\n",
       "      <td>NaN</td>\n",
       "      <td>NaN</td>\n",
       "    </tr>\n",
       "    <tr>\n",
       "      <th>1916</th>\n",
       "      <td>vs_n5_mID4_mD6_mV4_nV6-1</td>\n",
       "      <td>6</td>\n",
       "      <td>6</td>\n",
       "      <td>4</td>\n",
       "      <td>4</td>\n",
       "      <td>5</td>\n",
       "      <td>cve_ch5</td>\n",
       "      <td>sing</td>\n",
       "      <td>marg</td>\n",
       "      <td>./networks/vmodel/vmodel-sing_n5_mID4_mD6_mV4_...</td>\n",
       "      <td>4</td>\n",
       "      <td>NaN</td>\n",
       "      <td>0</td>\n",
       "      <td>0.02162501899836531 0.6233117954158697 0.04147...</td>\n",
       "      <td>140053.0</td>\n",
       "    </tr>\n",
       "    <tr>\n",
       "      <th>1917</th>\n",
       "      <td>vs_n5_mID4_mD6_mV4_nV6-1</td>\n",
       "      <td>6</td>\n",
       "      <td>6</td>\n",
       "      <td>4</td>\n",
       "      <td>4</td>\n",
       "      <td>5</td>\n",
       "      <td>cve_ch5</td>\n",
       "      <td>sing</td>\n",
       "      <td>cond</td>\n",
       "      <td>./networks/vmodel/vmodel-sing_n5_mID4_mD6_mV4_...</td>\n",
       "      <td>0</td>\n",
       "      <td>4</td>\n",
       "      <td>0</td>\n",
       "      <td>NaN</td>\n",
       "      <td>NaN</td>\n",
       "    </tr>\n",
       "    <tr>\n",
       "      <th>1918</th>\n",
       "      <td>vm_n5_mID4_mD6_mV4_nV6-1</td>\n",
       "      <td>6</td>\n",
       "      <td>6</td>\n",
       "      <td>4</td>\n",
       "      <td>4</td>\n",
       "      <td>5</td>\n",
       "      <td>cve_ch5</td>\n",
       "      <td>mult</td>\n",
       "      <td>marg</td>\n",
       "      <td>./networks/vmodel/vmodel-mult_n5_mID4_mD6_mV4_...</td>\n",
       "      <td>4</td>\n",
       "      <td>NaN</td>\n",
       "      <td>0</td>\n",
       "      <td>0.19665011233872 0.934857703437616 0.065142296...</td>\n",
       "      <td>139.0</td>\n",
       "    </tr>\n",
       "    <tr>\n",
       "      <th>1919</th>\n",
       "      <td>vm_n5_mID4_mD6_mV4_nV6-1</td>\n",
       "      <td>6</td>\n",
       "      <td>6</td>\n",
       "      <td>4</td>\n",
       "      <td>4</td>\n",
       "      <td>5</td>\n",
       "      <td>cve_ch5</td>\n",
       "      <td>mult</td>\n",
       "      <td>cond</td>\n",
       "      <td>./networks/vmodel/vmodel-mult_n5_mID4_mD6_mV4_...</td>\n",
       "      <td>0</td>\n",
       "      <td>4</td>\n",
       "      <td>0</td>\n",
       "      <td>NaN</td>\n",
       "      <td>NaN</td>\n",
       "    </tr>\n",
       "  </tbody>\n",
       "</table>\n",
       "<p>1920 rows × 15 columns</p>\n",
       "</div>"
      ],
      "text/plain": [
       "                         label  num_vert  max_degree  max_indegree  \\\n",
       "0     hs_n4_mID2_mD6_mV4_nV2-1         2           6             2   \n",
       "1     hs_n4_mID2_mD6_mV4_nV2-1         2           6             2   \n",
       "2     hm_n4_mID2_mD6_mV4_nV2-1         2           6             2   \n",
       "3     hm_n4_mID2_mD6_mV4_nV2-1         2           6             2   \n",
       "4     hs_n5_mID2_mD6_mV4_nV2-1         2           6             2   \n",
       "...                        ...       ...         ...           ...   \n",
       "1915  vm_n5_mID4_mD6_mV4_nV6-1         6           6             4   \n",
       "1916  vs_n5_mID4_mD6_mV4_nV6-1         6           6             4   \n",
       "1917  vs_n5_mID4_mD6_mV4_nV6-1         6           6             4   \n",
       "1918  vm_n5_mID4_mD6_mV4_nV6-1         6           6             4   \n",
       "1919  vm_n5_mID4_mD6_mV4_nV6-1         6           6             4   \n",
       "\n",
       "      max_values  nodes    method  kind query_type  \\\n",
       "0              4      4  approxlp  sing       marg   \n",
       "1              4      4  approxlp  sing       cond   \n",
       "2              4      4  approxlp  mult       marg   \n",
       "3              4      4  approxlp  mult       cond   \n",
       "4              4      5  approxlp  sing       marg   \n",
       "...          ...    ...       ...   ...        ...   \n",
       "1915           4      5  cve_ch10  mult       cond   \n",
       "1916           4      5   cve_ch5  sing       marg   \n",
       "1917           4      5   cve_ch5  sing       cond   \n",
       "1918           4      5   cve_ch5  mult       marg   \n",
       "1919           4      5   cve_ch5  mult       cond   \n",
       "\n",
       "                                               filename  target observed  \\\n",
       "0     ./networks/hmodel/hmodel-sing_n4_mID2_mD6_mV4_...       3      NaN   \n",
       "1     ./networks/hmodel/hmodel-sing_n4_mID2_mD6_mV4_...       0        3   \n",
       "2     ./networks/hmodel/hmodel-mult_n4_mID2_mD6_mV4_...       2      NaN   \n",
       "3     ./networks/hmodel/hmodel-mult_n4_mID2_mD6_mV4_...       0        2   \n",
       "4     ./networks/hmodel/hmodel-sing_n5_mID2_mD6_mV4_...       4      NaN   \n",
       "...                                                 ...     ...      ...   \n",
       "1915  ./networks/vmodel/vmodel-mult_n5_mID4_mD6_mV4_...       0        4   \n",
       "1916  ./networks/vmodel/vmodel-sing_n5_mID4_mD6_mV4_...       4      NaN   \n",
       "1917  ./networks/vmodel/vmodel-sing_n5_mID4_mD6_mV4_...       0        4   \n",
       "1918  ./networks/vmodel/vmodel-mult_n5_mID4_mD6_mV4_...       4      NaN   \n",
       "1919  ./networks/vmodel/vmodel-mult_n5_mID4_mD6_mV4_...       0        4   \n",
       "\n",
       "      barren                                    interval_result      time  \n",
       "0          0  0.47661183887412617 0.6147556334817609 0.38524...     477.0  \n",
       "1          0                                                NaN       NaN  \n",
       "2          0  0.14280081709746253 0.524457784601085 0.100093...    1277.0  \n",
       "3          0                                                NaN       NaN  \n",
       "4          0  0.13952568805044846 0.40904652506095185 0.2338...    1037.0  \n",
       "...      ...                                                ...       ...  \n",
       "1915       0                                                NaN       NaN  \n",
       "1916       0  0.02162501899836531 0.6233117954158697 0.04147...  140053.0  \n",
       "1917       0                                                NaN       NaN  \n",
       "1918       0  0.19665011233872 0.934857703437616 0.065142296...     139.0  \n",
       "1919       0                                                NaN       NaN  \n",
       "\n",
       "[1920 rows x 15 columns]"
      ]
     },
     "execution_count": 3,
     "metadata": {},
     "output_type": "execute_result"
    }
   ],
   "source": [
    "data = crb.get_benchmark_data()\n",
    "data"
   ]
  },
  {
   "cell_type": "markdown",
   "metadata": {
    "id": "Lf_Yd04oRU3N"
   },
   "source": [
    "## Credal networks specificaitons\n",
    "The specification of any of the models in UAI format can be obtained as follows."
   ]
  },
  {
   "cell_type": "code",
   "execution_count": 5,
   "metadata": {
    "colab": {
     "base_uri": "https://localhost:8080/"
    },
    "id": "E2hrLjMYd8bn",
    "outputId": "bb9f0157-42ec-4435-f72e-fe31f7ded6d8"
   },
   "outputs": [
    {
     "name": "stdout",
     "output_type": "stream",
     "text": [
      "V-CREDAL\n",
      "4\n",
      "4 4 2 2\n",
      "4\n",
      "1 0\n",
      "2 0 1\n",
      "2 1 2\n",
      "2 2 3\n",
      "\n",
      "8\n",
      "0.218 0.48 0.254 0.048\n",
      "0.296 0.603 0.086 0.015\n",
      "\n",
      "8\n",
      "0.241 0.617 0.119 0.023\n",
      "0.004 0.989 0.003 0.004\n",
      "8\n",
      "0.197 0.711 0.048 0.044\n",
      "0.039 0.948 0.006 0.007\n",
      "8\n",
      "0.919 0.004 0.009 0.068\n",
      "0.002 0.017 0.001 0.98\n",
      "8\n",
      "0.049 0.108 0.13 0.713\n",
      "0.095 0.428 0.427 0.05\n",
      "\n",
      "4\n",
      "0.423 0.577\n",
      "0.752 0.248\n",
      "4\n",
      "0.616 0.384\n",
      "0.667 0.333\n",
      "4\n",
      "0.875 0.125\n",
      "0.087 0.913\n",
      "4\n",
      "0.007 0.993\n",
      "0.517 0.483\n",
      "\n",
      "4\n",
      "0.674 0.326\n",
      "0.677 0.323\n",
      "4\n",
      "0.361 0.639\n",
      "0.464 0.536\n",
      "\n"
     ]
    }
   ],
   "source": [
    "modelname = \"vs_n4_mID2_mD6_mV4_nV2-1\"\n",
    "print(crb.get_model(modelname))"
   ]
  },
  {
   "cell_type": "markdown",
   "metadata": {
    "id": "gke8kPUiRiCF"
   },
   "source": [
    "This specification can also be saved into a file:"
   ]
  },
  {
   "cell_type": "code",
   "execution_count": 5,
   "metadata": {
    "colab": {
     "base_uri": "https://localhost:8080/"
    },
    "id": "0Db2KjV7eCRE",
    "outputId": "c24fcb58-5f01-477f-9d06-4d4c0ac23057"
   },
   "outputs": [
    {
     "name": "stdout",
     "output_type": "stream",
     "text": [
      "-rw-r--r-- 1 root root  449 Feb 19 17:13 model.uai\n"
     ]
    }
   ],
   "source": [
    "crepo.save_model(modelname, \"model.uai\")\n",
    "!ls -l | grep model"
   ]
  },
  {
   "cell_type": "markdown",
   "metadata": {
    "id": "Ie5D0fcaR1oy",
    "pycharm": {
     "name": "#%% md\n"
    }
   },
   "source": [
    "## Running inference with CREMA\n",
    "\n",
    "Finally, an inference task can be done by invoking Crema:"
   ]
  },
  {
   "cell_type": "code",
   "execution_count": 6,
   "metadata": {
    "colab": {
     "base_uri": "https://localhost:8080/"
    },
    "id": "6QdFmr5NeIhd",
    "outputId": "3954a947-cd30-46e4-d2ba-2bb80147e27b"
   },
   "outputs": [
    {
     "data": {
      "text/plain": [
       "{'arg_str': '-t;--method=cve;-r;1;-w;0;-x;0;-y;1;--timeout=600;model.uai',\n",
       " 'err_msg': '',\n",
       " 'interval_result': [0.0026153357047309983,\n",
       "  0.7449456975772765,\n",
       "  0.060534723389944506,\n",
       "  0.982702139276319,\n",
       "  0.0008971229475704658,\n",
       "  0.9140697811019305,\n",
       "  0.002723271185938287,\n",
       "  0.18491484184914841],\n",
       " 'time': 45.0}"
      ]
     },
     "execution_count": 6,
     "metadata": {
      "tags": []
     },
     "output_type": "execute_result"
    }
   ],
   "source": [
    "crepo.run_crema(\"model.uai\", target=0, method=\"cve\")"
   ]
  }
 ],
 "metadata": {
  "colab": {
   "collapsed_sections": [],
   "name": "crepo_basic.ipynb",
   "provenance": []
  },
  "kernelspec": {
   "display_name": "Python 3",
   "language": "python",
   "name": "python3"
  },
  "language_info": {
   "codemirror_mode": {
    "name": "ipython",
    "version": 3
   },
   "file_extension": ".py",
   "mimetype": "text/x-python",
   "name": "python",
   "nbconvert_exporter": "python",
   "pygments_lexer": "ipython3",
   "version": "3.8.0"
  }
 },
 "nbformat": 4,
 "nbformat_minor": 4
}